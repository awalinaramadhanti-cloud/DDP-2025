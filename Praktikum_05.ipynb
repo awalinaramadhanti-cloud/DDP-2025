{
  "nbformat": 4,
  "nbformat_minor": 0,
  "metadata": {
    "colab": {
      "provenance": [],
      "authorship_tag": "ABX9TyMSULhavJQAmIn9UZqJuVPF",
      "include_colab_link": true
    },
    "kernelspec": {
      "name": "python3",
      "display_name": "Python 3"
    },
    "language_info": {
      "name": "python"
    }
  },
  "cells": [
    {
      "cell_type": "markdown",
      "metadata": {
        "id": "view-in-github",
        "colab_type": "text"
      },
      "source": [
        "<a href=\"https://colab.research.google.com/github/awalinaramadhanti-cloud/DDP-2025/blob/main/Praktikum_05.ipynb\" target=\"_parent\"><img src=\"https://colab.research.google.com/assets/colab-badge.svg\" alt=\"Open In Colab\"/></a>"
      ]
    },
    {
      "cell_type": "code",
      "execution_count": null,
      "metadata": {
        "id": "hcgBjEz0zvXa",
        "colab": {
          "base_uri": "https://localhost:8080/"
        },
        "outputId": "9b88c556-7ce5-47e7-ea6b-04662858afe5"
      },
      "outputs": [
        {
          "output_type": "stream",
          "name": "stdout",
          "text": [
            "['vario', 'motor', 200, 'hitam', 2]\n",
            "['vario', 'motor', 200, 'hitam', 2, 5000, 'matic']\n",
            "['vario', 'motor', 'honda', 200, 'hitam', 2, 5000, 'matic']\n"
          ]
        }
      ],
      "source": [
        "namakendaraan =\"vario\"\n",
        "jeniskendaraan =\"motor\"\n",
        "cc =200\n",
        "warna =\"hitam\"\n",
        "roda =2\n",
        "\n",
        "data_kendaraan=[namakendaraan, jeniskendaraan, cc,\n",
        "warna, roda]\n",
        "print(data_kendaraan)\n",
        "\n",
        "hargakendaraan = 5000\n",
        "tipekendaraan= \"matic\"\n",
        "\n",
        "data_kendaraan.append(hargakendaraan)\n",
        "data_kendaraan.append(tipekendaraan)\n",
        "print(data_kendaraan)\n",
        "\n",
        "merkkendaraan = \"honda\"\n",
        "data_kendaraan.insert(2, merkkendaraan)\n",
        "print(data_kendaraan)"
      ]
    },
    {
      "cell_type": "code",
      "source": [
        "pilihan = input(\"\"\"\n",
        "silahkan pilih menu yg diinginkan\n",
        "===============================\n",
        "1. luas persegi\n",
        "2. luas lingkaran\n",
        "3. luas segitiga\n",
        "===============================\n",
        "Kirimkan hanya angka saja,\n",
        "jawaban = \"\"\")\n",
        "\n",
        "match pilihan:\n",
        "    case \"1\":\n",
        "        sisi = int(input(\"sisi = \"))\n",
        "        luas = sisi * sisi\n",
        "        print(f\"luas persegi dengan sisi {sisi} adalah {luas}\")\n",
        "        # luas persegi\n",
        "\n",
        "    case \"2\":\n",
        "        jari = int(input(\"jari-jari lingkaran: \"))\n",
        "        luas = 3.14 * jari * jari\n",
        "        print(f\"Luas lingkaran = \", luas)\n",
        "        # luas lingkaran\n",
        "\n",
        "    case \"3\":\n",
        "        # luas segitiga\n",
        "        alas = int(input(\"alas segitiga: \"))\n",
        "        tinggi = int(input(\"tinggi segitiga: \"))\n",
        "        luas = 0.5 * alas * tinggi\n",
        "        print(f\"Luas segitiga = \", luas)"
      ],
      "metadata": {
        "colab": {
          "base_uri": "https://localhost:8080/"
        },
        "id": "9XFIxg3VGIck",
        "outputId": "ea1e718e-44b6-418e-ecf0-80486a9717c8"
      },
      "execution_count": 22,
      "outputs": [
        {
          "name": "stdout",
          "output_type": "stream",
          "text": [
            "\n",
            "silahkan pilih menu yg diinginkan\n",
            "===============================\n",
            "1. luas persegi\n",
            "2. luas lingkaran\n",
            "3. luas segitiga\n",
            "===============================\n",
            "Kirimkan hanya angka saja,\n",
            "jawaban = 5\n"
          ]
        }
      ]
    }
  ]
}